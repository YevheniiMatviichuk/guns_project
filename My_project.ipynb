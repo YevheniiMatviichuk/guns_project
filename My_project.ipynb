{
 "cells": [
  {
   "cell_type": "code",
   "execution_count": 14,
   "metadata": {},
   "outputs": [
    {
     "data": {
      "text/plain": [
       "['1',\n",
       " '2012',\n",
       " '01',\n",
       " 'Suicide',\n",
       " '0',\n",
       " 'M',\n",
       " '34',\n",
       " 'Asian/Pacific Islander',\n",
       " '100',\n",
       " 'Home',\n",
       " 'BA+']"
      ]
     },
     "execution_count": 14,
     "metadata": {},
     "output_type": "execute_result"
    }
   ],
   "source": [
    "\n",
    "## Introducing US Gun Deaths Data\n",
    "\n",
    "import csv\n",
    "import datetime\n",
    "f = open(\"guns.csv\", \"r\")\n",
    "data = list(csv.reader(f))\n",
    "headers = data[0]\n",
    "data = data[1:] # remove headers\n",
    "data [0]"
   ]
  },
  {
   "cell_type": "code",
   "execution_count": 11,
   "metadata": {},
   "outputs": [
    {
     "data": {
      "text/plain": [
       "{'2012': 33563, '2013': 33636, '2014': 33599}"
      ]
     },
     "execution_count": 11,
     "metadata": {},
     "output_type": "execute_result"
    }
   ],
   "source": [
    "## Count the gun deaths by each year\n",
    "\n",
    "years = [each[1] for each in data] # parse year column from data\n",
    "year_counts = {}\n",
    "for year in years: \n",
    "    if year in year_counts:\n",
    "        year_counts[year] = year_counts[year] + 1\n",
    "    else:\n",
    "         year_counts[year] = 1\n",
    "year_counts"
   ]
  },
  {
   "cell_type": "code",
   "execution_count": 15,
   "metadata": {},
   "outputs": [
    {
     "data": {
      "text/plain": [
       "{'2012-01-01 00:00:00': 2758,\n",
       " '2012-02-01 00:00:00': 2357,\n",
       " '2012-03-01 00:00:00': 2743,\n",
       " '2012-04-01 00:00:00': 2795,\n",
       " '2012-05-01 00:00:00': 2999,\n",
       " '2012-06-01 00:00:00': 2826,\n",
       " '2012-07-01 00:00:00': 3026,\n",
       " '2012-08-01 00:00:00': 2954,\n",
       " '2012-09-01 00:00:00': 2852,\n",
       " '2012-10-01 00:00:00': 2733,\n",
       " '2012-11-01 00:00:00': 2729,\n",
       " '2012-12-01 00:00:00': 2791,\n",
       " '2013-01-01 00:00:00': 2864,\n",
       " '2013-02-01 00:00:00': 2375,\n",
       " '2013-03-01 00:00:00': 2862,\n",
       " '2013-04-01 00:00:00': 2798,\n",
       " '2013-05-01 00:00:00': 2806,\n",
       " '2013-06-01 00:00:00': 2920,\n",
       " '2013-07-01 00:00:00': 3079,\n",
       " '2013-08-01 00:00:00': 2859,\n",
       " '2013-09-01 00:00:00': 2742,\n",
       " '2013-10-01 00:00:00': 2808,\n",
       " '2013-11-01 00:00:00': 2758,\n",
       " '2013-12-01 00:00:00': 2765,\n",
       " '2014-01-01 00:00:00': 2651,\n",
       " '2014-02-01 00:00:00': 2361,\n",
       " '2014-03-01 00:00:00': 2684,\n",
       " '2014-04-01 00:00:00': 2862,\n",
       " '2014-05-01 00:00:00': 2864,\n",
       " '2014-06-01 00:00:00': 2931,\n",
       " '2014-07-01 00:00:00': 2884,\n",
       " '2014-08-01 00:00:00': 2970,\n",
       " '2014-09-01 00:00:00': 2914,\n",
       " '2014-10-01 00:00:00': 2865,\n",
       " '2014-11-01 00:00:00': 2756,\n",
       " '2014-12-01 00:00:00': 2857}"
      ]
     },
     "execution_count": 15,
     "metadata": {},
     "output_type": "execute_result"
    }
   ],
   "source": [
    "## Count the gun deaths by each month\n",
    "\n",
    "dates = []\n",
    "for each in data: # split each year by month \n",
    "    year = int(each[1])\n",
    "    month = int(each[2])\n",
    "    date = datetime.datetime(year=year, month=month, day=1) # we don`t have days in table, so it`s constant 1\n",
    "    dates.append(date)\n",
    "    \n",
    "str_dates = [] # convert datetime into list\n",
    "for each in dates:\n",
    "    each = str(each)\n",
    "    str_dates.append(each)\n",
    "\n",
    "dates_counts = {} # count the gun deathes in each month of each year\n",
    "for date in str_dates:\n",
    "    if date in dates_counts:\n",
    "        dates_counts[date] += 1 \n",
    "    else:\n",
    "         dates_counts[date] = 1\n",
    "\n",
    "dates_counts    "
   ]
  },
  {
   "cell_type": "code",
   "execution_count": 18,
   "metadata": {},
   "outputs": [
    {
     "data": {
      "text/plain": [
       "{'M': 86349, 'F': 14449}"
      ]
     },
     "execution_count": 18,
     "metadata": {},
     "output_type": "execute_result"
    }
   ],
   "source": [
    "## Analyzing data by sex\n",
    "\n",
    "sex_counts = {} # Count crimes by sex\n",
    "for each in data:\n",
    "    sex = each[5]\n",
    "    if sex in sex_counts:\n",
    "        sex_counts[sex] += 1\n",
    "    else:\n",
    "        sex_counts[sex] = 1\n",
    "    \n",
    "sex_counts\n",
    "    \n",
    "\n",
    "        "
   ]
  },
  {
   "cell_type": "code",
   "execution_count": 17,
   "metadata": {},
   "outputs": [
    {
     "data": {
      "text/plain": [
       "{'Asian/Pacific Islander': 1326,\n",
       " 'White': 66237,\n",
       " 'Native American/Native Alaskan': 917,\n",
       " 'Black': 23296,\n",
       " 'Hispanic': 9022}"
      ]
     },
     "execution_count": 17,
     "metadata": {},
     "output_type": "execute_result"
    }
   ],
   "source": [
    "## Analyzing data by race\n",
    "\n",
    "race_counts = {}\n",
    "for each in data:\n",
    "    race = each[7]\n",
    "    if race in race_counts:\n",
    "        race_counts[race] += 1\n",
    "    else:\n",
    "        \n",
    "        race_counts[race] = 1\n",
    "        \n",
    "race_counts"
   ]
  },
  {
   "cell_type": "code",
   "execution_count": 22,
   "metadata": {},
   "outputs": [
    {
     "data": {
      "text/plain": [
       "{'Asian/Pacific Islander': 15834141,\n",
       " 'Black': 40250635,\n",
       " 'Hispanic': 44618105,\n",
       " 'Native American/Native Alaskan': 3739506,\n",
       " 'White': 197318956}"
      ]
     },
     "execution_count": 22,
     "metadata": {},
     "output_type": "execute_result"
    }
   ],
   "source": [
    "## Let`s count the amount of killed by gun out of every 100 000 people from 2012 to 2014 years\n",
    "\n",
    "f = open(\"census.csv\", \"r\")\n",
    "census = list(csv.reader(f))\n",
    "\n",
    "\n",
    "# we need to create dictionary manualy because racial categories are named slightly differently in census and in data\n",
    "mapping = {\n",
    "    \"Asian/Pacific Islander\": int(census[1][14]) + int(census[1][15]),\n",
    "    \"Black\": int(census[1][12]),\n",
    "    \"Hispanic\": int(census[1][11]),\n",
    "    \"Native American/Native Alaskan\": int(census[1][13]),\n",
    "    \"White\": int(census[1][10])\n",
    "    }\n",
    "\n",
    "mapping"
   ]
  },
  {
   "cell_type": "code",
   "execution_count": 23,
   "metadata": {},
   "outputs": [
    {
     "data": {
      "text/plain": [
       "{'Asian/Pacific Islander': 8.374309664161762,\n",
       " 'White': 33.56849303419181,\n",
       " 'Native American/Native Alaskan': 24.521955573811088,\n",
       " 'Black': 57.8773477735196,\n",
       " 'Hispanic': 20.220491210910907}"
      ]
     },
     "execution_count": 23,
     "metadata": {},
     "output_type": "execute_result"
    }
   ],
   "source": [
    "## Computing Rates Of Gun Deaths Per Race\n",
    "\n",
    "# using .item() method we can count the amount of killed by gun by race out of 100 000 people using values from 2 vocabularies\n",
    "\n",
    "race_per_hundredk = {} \n",
    "for key, value in race_counts.items():  \n",
    "    race_per_hundredk[key] = (value/mapping[key])*100000\n",
    "    \n",
    "race_per_hundredk"
   ]
  },
  {
   "cell_type": "code",
   "execution_count": 25,
   "metadata": {},
   "outputs": [
    {
     "data": {
      "text/plain": [
       "{'White': 9147,\n",
       " 'Asian/Pacific Islander': 559,\n",
       " 'Black': 19510,\n",
       " 'Native American/Native Alaskan': 326,\n",
       " 'Hispanic': 5634}"
      ]
     },
     "execution_count": 25,
     "metadata": {},
     "output_type": "execute_result"
    }
   ],
   "source": [
    "## Let`s filter out results, and restrict them to the Homicide intent\n",
    "\n",
    "intents = [each[3] for each in data] # Extract the intent column from data\n",
    "\n",
    "races = [each[7] for each in data]  # Extract the race column from data\n",
    "\n",
    "\n",
    "homicide_race_counts = {}\n",
    "\n",
    "for i, race in enumerate(races): # Count the amount of people killed by Homicide intent by race\n",
    "    if intents[i] == \"Homicide\":\n",
    "        if race in homicide_race_counts:\n",
    "            homicide_race_counts[race] += 1\n",
    "        else:\n",
    "            homicide_race_counts[race] = 1\n",
    "            \n",
    "homicide_race_counts\n",
    "\n"
   ]
  },
  {
   "cell_type": "code",
   "execution_count": 26,
   "metadata": {},
   "outputs": [
    {
     "data": {
      "text/plain": [
       "{'White': 4.6356417981453335,\n",
       " 'Asian/Pacific Islander': 3.530346230970155,\n",
       " 'Black': 48.471284987180944,\n",
       " 'Native American/Native Alaskan': 8.717729026240365,\n",
       " 'Hispanic': 12.627161104219914}"
      ]
     },
     "execution_count": 26,
     "metadata": {},
     "output_type": "execute_result"
    }
   ],
   "source": [
    "homicide_race_per_hundredk = {}\n",
    "\n",
    "# Let`s find the amount of killed by homicide out of 100 000 people by race\n",
    "for key, value in homicide_race_counts.items():\n",
    "    homicide_race_per_hundredk[key] = (value/mapping[key]*100000)\n",
    "    \n",
    "homicide_race_per_hundredk\n",
    "\n"
   ]
  },
  {
   "cell_type": "code",
   "execution_count": null,
   "metadata": {},
   "outputs": [],
   "source": [
    "## As we can see the highest amount of people killed by homicide are from black and hispanic races"
   ]
  }
 ],
 "metadata": {
  "kernelspec": {
   "display_name": "Python 3",
   "language": "python",
   "name": "python3"
  },
  "language_info": {
   "codemirror_mode": {
    "name": "ipython",
    "version": 3
   },
   "file_extension": ".py",
   "mimetype": "text/x-python",
   "name": "python",
   "nbconvert_exporter": "python",
   "pygments_lexer": "ipython3",
   "version": "3.7.0"
  }
 },
 "nbformat": 4,
 "nbformat_minor": 2
}
